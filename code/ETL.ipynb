{
 "cells": [
  {
   "cell_type": "code",
   "execution_count": 1,
   "id": "9b9dee78",
   "metadata": {},
   "outputs": [],
   "source": [
    "import pandas as pd\n",
    "import matplotlib.pyplot as plt\n",
    "import seaborn as sns\n",
    "import numpy as np"
   ]
  },
  {
   "cell_type": "code",
   "execution_count": 2,
   "id": "61c1e8ba",
   "metadata": {},
   "outputs": [],
   "source": [
    "df1 = pd.read_csv('../data/drivers_updated.csv')\n",
    "df2 = pd.read_csv('../data/fastest_laps_updated.csv')\n",
    "df3 = pd.read_csv('../data/teams_updated.csv')\n",
    "df4 = pd.read_csv('../data/winners.csv')"
   ]
  },
  {
   "cell_type": "markdown",
   "id": "cf6f451a",
   "metadata": {},
   "source": [
    "# Objetivos del análisis\n",
    "### Comparativa vueltas rapidas entre años\n",
    "### Comprobación dominancia de escuderias por ptos entre temporadas\n",
    "### Nacionalidades predominantes en la f1\n",
    "### Pilotos con mas puntos"
   ]
  },
  {
   "cell_type": "code",
   "execution_count": 3,
   "id": "93bd05bb",
   "metadata": {
    "scrolled": true
   },
   "outputs": [
    {
     "name": "stderr",
     "output_type": "stream",
     "text": [
      "C:\\Users\\v1cto\\AppData\\Local\\Temp\\ipykernel_17124\\382474813.py:15: SettingWithCopyWarning: \n",
      "A value is trying to be set on a copy of a slice from a DataFrame\n",
      "\n",
      "See the caveats in the documentation: https://pandas.pydata.org/pandas-docs/stable/user_guide/indexing.html#returning-a-view-versus-a-copy\n",
      "  df1.pos[df1.pos == 'DQ'] = '0'\n"
     ]
    }
   ],
   "source": [
    "df1.columns = df1.columns.str.lower()\n",
    "\n",
    "df1.iloc[16, 3] = 'Ferrari'  # lo del corchete del iloc es: el primmer numero index, segundo numero columna\n",
    "df1.iloc[17, 3] = 'Philippe Étancelin'\n",
    "df1.iloc[21, 3] = 'Ecurie Lutetia'\n",
    "df1.iloc[35, 3] = 'Ecurie Rosier'\n",
    "df1.iloc[493, 3] = 'Frank Williams Racing Cars/Williams'\n",
    "df1.iloc[53, 3] = 'Scuderia Franera'\n",
    "df1.iloc[309, 3] = 'Reg Parnell Racing'\n",
    "df1.iloc[314, 3] = 'Reg Parnell Racing'\n",
    "df1.iloc[446, 3] = 'Gold Leaf Team Lotus'\n",
    "df1.iloc[478, 3] = 'STP March Racing Team'\n",
    "df1.iloc[492, 3] = 'Penske-White Racing'\n",
    "\n",
    "df1.pos[df1.pos == 'DQ'] = '0'\n",
    "\n",
    "df1.pos = df1.pos.astype(int)\n",
    "\n",
    "df1.driver = df1.driver.apply(lambda x: 'Kimi Raikkonen' if 'Kim' in x else x)"
   ]
  },
  {
   "cell_type": "code",
   "execution_count": 4,
   "id": "c9b13224",
   "metadata": {},
   "outputs": [],
   "source": [
    "def buscar_temporada_df1(año):\n",
    "    \n",
    "    return df1[df1.year == año]"
   ]
  },
  {
   "cell_type": "code",
   "execution_count": 5,
   "id": "fcba5718",
   "metadata": {},
   "outputs": [],
   "source": [
    "def buscar_nombre_df1(columna, nombre):\n",
    "\n",
    "    return df1[df1[columna].str.contains(nombre, case=False, na=False)]"
   ]
  },
  {
   "cell_type": "code",
   "execution_count": 6,
   "id": "c68e2d8b",
   "metadata": {
    "scrolled": true
   },
   "outputs": [
    {
     "name": "stdout",
     "output_type": "stream",
     "text": [
      "<class 'pandas.core.frame.DataFrame'>\n",
      "RangeIndex: 1661 entries, 0 to 1660\n",
      "Data columns (total 7 columns):\n",
      " #   Column       Non-Null Count  Dtype  \n",
      "---  ------       --------------  -----  \n",
      " 0   pos          1661 non-null   int32  \n",
      " 1   driver       1661 non-null   object \n",
      " 2   nationality  1661 non-null   object \n",
      " 3   car          1661 non-null   object \n",
      " 4   pts          1661 non-null   float64\n",
      " 5   year         1661 non-null   int64  \n",
      " 6   code         1661 non-null   object \n",
      "dtypes: float64(1), int32(1), int64(1), object(4)\n",
      "memory usage: 84.5+ KB\n"
     ]
    }
   ],
   "source": [
    "df1.info()"
   ]
  },
  {
   "cell_type": "code",
   "execution_count": 7,
   "id": "a046f872",
   "metadata": {},
   "outputs": [],
   "source": [
    "df1.to_csv('drivers_clean.csv',index=False)"
   ]
  },
  {
   "cell_type": "code",
   "execution_count": 8,
   "id": "04759ed8",
   "metadata": {},
   "outputs": [
    {
     "data": {
      "text/html": [
       "<div>\n",
       "<style scoped>\n",
       "    .dataframe tbody tr th:only-of-type {\n",
       "        vertical-align: middle;\n",
       "    }\n",
       "\n",
       "    .dataframe tbody tr th {\n",
       "        vertical-align: top;\n",
       "    }\n",
       "\n",
       "    .dataframe thead th {\n",
       "        text-align: right;\n",
       "    }\n",
       "</style>\n",
       "<table border=\"1\" class=\"dataframe\">\n",
       "  <thead>\n",
       "    <tr style=\"text-align: right;\">\n",
       "      <th></th>\n",
       "      <th>Grand Prix</th>\n",
       "      <th>Driver</th>\n",
       "      <th>Car</th>\n",
       "      <th>Time</th>\n",
       "      <th>year</th>\n",
       "      <th>Code</th>\n",
       "    </tr>\n",
       "  </thead>\n",
       "  <tbody>\n",
       "    <tr>\n",
       "      <th>0</th>\n",
       "      <td>Great Britain</td>\n",
       "      <td>Nino  Farina</td>\n",
       "      <td>Alfa Romeo</td>\n",
       "      <td>1:50.600</td>\n",
       "      <td>1950</td>\n",
       "      <td>FAR</td>\n",
       "    </tr>\n",
       "    <tr>\n",
       "      <th>1</th>\n",
       "      <td>Monaco</td>\n",
       "      <td>Juan Manuel  Fangio</td>\n",
       "      <td>Alfa Romeo</td>\n",
       "      <td>1:51.000</td>\n",
       "      <td>1950</td>\n",
       "      <td>FAN</td>\n",
       "    </tr>\n",
       "    <tr>\n",
       "      <th>2</th>\n",
       "      <td>Indianapolis 500</td>\n",
       "      <td>Johnnie Parsons</td>\n",
       "      <td>Kurtis Kraft Offenhauser</td>\n",
       "      <td>NaN</td>\n",
       "      <td>1950</td>\n",
       "      <td>PAR</td>\n",
       "    </tr>\n",
       "    <tr>\n",
       "      <th>3</th>\n",
       "      <td>Switzerland</td>\n",
       "      <td>Nino  Farina</td>\n",
       "      <td>Alfa Romeo</td>\n",
       "      <td>2:41.600</td>\n",
       "      <td>1950</td>\n",
       "      <td>FAR</td>\n",
       "    </tr>\n",
       "    <tr>\n",
       "      <th>4</th>\n",
       "      <td>Belgium</td>\n",
       "      <td>Nino  Farina</td>\n",
       "      <td>Alfa Romeo</td>\n",
       "      <td>4:34.100</td>\n",
       "      <td>1950</td>\n",
       "      <td>FAR</td>\n",
       "    </tr>\n",
       "    <tr>\n",
       "      <th>...</th>\n",
       "      <td>...</td>\n",
       "      <td>...</td>\n",
       "      <td>...</td>\n",
       "      <td>...</td>\n",
       "      <td>...</td>\n",
       "      <td>...</td>\n",
       "    </tr>\n",
       "    <tr>\n",
       "      <th>1103</th>\n",
       "      <td>Japan</td>\n",
       "      <td>Max  Verstappen</td>\n",
       "      <td>Red Bull Racing Honda RBPT</td>\n",
       "      <td>1:33.706</td>\n",
       "      <td>2024</td>\n",
       "      <td>VER</td>\n",
       "    </tr>\n",
       "    <tr>\n",
       "      <th>1104</th>\n",
       "      <td>China</td>\n",
       "      <td>Fernando  Alonso</td>\n",
       "      <td>Aston Martin Aramco Mercedes</td>\n",
       "      <td>1:37.810</td>\n",
       "      <td>2024</td>\n",
       "      <td>ALO</td>\n",
       "    </tr>\n",
       "    <tr>\n",
       "      <th>1105</th>\n",
       "      <td>Miami</td>\n",
       "      <td>Oscar  Piastri</td>\n",
       "      <td>McLaren Mercedes</td>\n",
       "      <td>1:30.634</td>\n",
       "      <td>2024</td>\n",
       "      <td>PIA</td>\n",
       "    </tr>\n",
       "    <tr>\n",
       "      <th>1106</th>\n",
       "      <td>Emilia Romagna</td>\n",
       "      <td>George  Russell</td>\n",
       "      <td>Mercedes</td>\n",
       "      <td>1:18.589</td>\n",
       "      <td>2024</td>\n",
       "      <td>RUS</td>\n",
       "    </tr>\n",
       "    <tr>\n",
       "      <th>1107</th>\n",
       "      <td>Monaco</td>\n",
       "      <td>Lewis  Hamilton</td>\n",
       "      <td>Mercedes</td>\n",
       "      <td>1:14.165</td>\n",
       "      <td>2024</td>\n",
       "      <td>HAM</td>\n",
       "    </tr>\n",
       "  </tbody>\n",
       "</table>\n",
       "<p>1108 rows × 6 columns</p>\n",
       "</div>"
      ],
      "text/plain": [
       "            Grand Prix                Driver                           Car  \\\n",
       "0        Great Britain         Nino  Farina                     Alfa Romeo   \n",
       "1               Monaco  Juan Manuel  Fangio                     Alfa Romeo   \n",
       "2     Indianapolis 500      Johnnie Parsons       Kurtis Kraft Offenhauser   \n",
       "3          Switzerland         Nino  Farina                     Alfa Romeo   \n",
       "4              Belgium         Nino  Farina                     Alfa Romeo   \n",
       "...                ...                   ...                           ...   \n",
       "1103             Japan      Max  Verstappen     Red Bull Racing Honda RBPT   \n",
       "1104             China     Fernando  Alonso   Aston Martin Aramco Mercedes   \n",
       "1105             Miami       Oscar  Piastri               McLaren Mercedes   \n",
       "1106    Emilia Romagna      George  Russell                       Mercedes   \n",
       "1107            Monaco      Lewis  Hamilton                       Mercedes   \n",
       "\n",
       "          Time  year Code  \n",
       "0     1:50.600  1950  FAR  \n",
       "1     1:51.000  1950  FAN  \n",
       "2          NaN  1950  PAR  \n",
       "3     2:41.600  1950  FAR  \n",
       "4     4:34.100  1950  FAR  \n",
       "...        ...   ...  ...  \n",
       "1103  1:33.706  2024  VER  \n",
       "1104  1:37.810  2024  ALO  \n",
       "1105  1:30.634  2024  PIA  \n",
       "1106  1:18.589  2024  RUS  \n",
       "1107  1:14.165  2024  HAM  \n",
       "\n",
       "[1108 rows x 6 columns]"
      ]
     },
     "execution_count": 8,
     "metadata": {},
     "output_type": "execute_result"
    }
   ],
   "source": [
    "df2"
   ]
  },
  {
   "cell_type": "code",
   "execution_count": 9,
   "id": "f803c28a",
   "metadata": {},
   "outputs": [
    {
     "name": "stdout",
     "output_type": "stream",
     "text": [
      "<class 'pandas.core.frame.DataFrame'>\n",
      "RangeIndex: 1108 entries, 0 to 1107\n",
      "Data columns (total 6 columns):\n",
      " #   Column     Non-Null Count  Dtype \n",
      "---  ------     --------------  ----- \n",
      " 0   grandprix  1108 non-null   object\n",
      " 1   driver     1108 non-null   object\n",
      " 2   car        1108 non-null   object\n",
      " 3   time       1108 non-null   object\n",
      " 4   year       1108 non-null   int64 \n",
      " 5   code       1108 non-null   object\n",
      "dtypes: int64(1), object(5)\n",
      "memory usage: 52.1+ KB\n"
     ]
    }
   ],
   "source": [
    "df2.columns = df2.columns.str.lower()\n",
    "\n",
    "df2.columns = df2.columns.str.replace(' ', '')\n",
    "\n",
    "df2.iloc[2, 3] = '01:09.77'\n",
    "df2.iloc[1033, 3] = '00:55.404'\n",
    "\n",
    "df2.driver = df2.driver.apply(lambda x: 'Kimi Raikkonen' if 'Kim' in x else x)\n",
    "\n",
    "df2.info()"
   ]
  },
  {
   "cell_type": "code",
   "execution_count": 10,
   "id": "47731b5c",
   "metadata": {},
   "outputs": [],
   "source": [
    "df2.to_csv('fastest_laps_clean.csv', index=False)"
   ]
  }
 ],
 "metadata": {
  "kernelspec": {
   "display_name": "Python 3 (ipykernel)",
   "language": "python",
   "name": "python3"
  },
  "language_info": {
   "codemirror_mode": {
    "name": "ipython",
    "version": 3
   },
   "file_extension": ".py",
   "mimetype": "text/x-python",
   "name": "python",
   "nbconvert_exporter": "python",
   "pygments_lexer": "ipython3",
   "version": "3.11.5"
  }
 },
 "nbformat": 4,
 "nbformat_minor": 5
}
