{
 "cells": [
  {
   "cell_type": "code",
   "execution_count": 98,
   "id": "9b9dee78",
   "metadata": {},
   "outputs": [],
   "source": [
    "import pandas as pd\n",
    "import matplotlib.pyplot as plt\n",
    "import seaborn as sns\n",
    "import numpy as np"
   ]
  },
  {
   "cell_type": "code",
   "execution_count": 2,
   "id": "61c1e8ba",
   "metadata": {},
   "outputs": [],
   "source": [
    "df1 = pd.read_csv('../data/drivers_updated.csv')\n",
    "df2 = pd.read_csv('../data/fastest_laps_updated.csv')\n",
    "df3 = pd.read_csv('../data/teams_updated.csv')\n",
    "df4 = pd.read_csv('../data/winners.csv')"
   ]
  },
  {
   "cell_type": "markdown",
   "id": "cf6f451a",
   "metadata": {},
   "source": [
    "# Objetivos del análisis\n",
    "### Comparativa vueltas rapidas entre años\n",
    "### Comprobación dominancia de escuderias por ptos entre temporadas\n",
    "### Nacionalidades predominantes en la f1\n",
    "### Pilotos con mas puntos"
   ]
  },
  {
   "cell_type": "code",
   "execution_count": 3,
   "id": "93bd05bb",
   "metadata": {
    "scrolled": true
   },
   "outputs": [
    {
     "name": "stderr",
     "output_type": "stream",
     "text": [
      "C:\\Users\\v1cto\\AppData\\Local\\Temp\\ipykernel_8620\\382474813.py:15: SettingWithCopyWarning: \n",
      "A value is trying to be set on a copy of a slice from a DataFrame\n",
      "\n",
      "See the caveats in the documentation: https://pandas.pydata.org/pandas-docs/stable/user_guide/indexing.html#returning-a-view-versus-a-copy\n",
      "  df1.pos[df1.pos == 'DQ'] = '0'\n"
     ]
    }
   ],
   "source": [
    "df1.columns = df1.columns.str.lower()\n",
    "\n",
    "df1.iloc[16, 3] = 'Ferrari'  # lo del corchete del iloc es: el primmer numero index, segundo numero columna\n",
    "df1.iloc[17, 3] = 'Philippe Étancelin'\n",
    "df1.iloc[21, 3] = 'Ecurie Lutetia'\n",
    "df1.iloc[35, 3] = 'Ecurie Rosier'\n",
    "df1.iloc[493, 3] = 'Frank Williams Racing Cars/Williams'\n",
    "df1.iloc[53, 3] = 'Scuderia Franera'\n",
    "df1.iloc[309, 3] = 'Reg Parnell Racing'\n",
    "df1.iloc[314, 3] = 'Reg Parnell Racing'\n",
    "df1.iloc[446, 3] = 'Gold Leaf Team Lotus'\n",
    "df1.iloc[478, 3] = 'STP March Racing Team'\n",
    "df1.iloc[492, 3] = 'Penske-White Racing'\n",
    "\n",
    "df1.pos[df1.pos == 'DQ'] = '0'\n",
    "\n",
    "df1.pos = df1.pos.astype(int)\n",
    "\n",
    "df1.driver = df1.driver.apply(lambda x: 'Kimi Raikkonen' if 'Kim' in x else x)"
   ]
  },
  {
   "cell_type": "code",
   "execution_count": 4,
   "id": "3865dcfc",
   "metadata": {},
   "outputs": [],
   "source": [
    "def buscar_temporada_df1(año):\n",
    "    \n",
    "    return df1[df1.year == año]"
   ]
  },
  {
   "cell_type": "code",
   "execution_count": 5,
   "id": "26e9c159",
   "metadata": {},
   "outputs": [],
   "source": [
    "def buscar_nombre_df1(columna, nombre):\n",
    "\n",
    "    return df1[df1[columna].str.contains(nombre, case=False, na=False)]"
   ]
  },
  {
   "cell_type": "code",
   "execution_count": 117,
   "id": "b60d0031",
   "metadata": {},
   "outputs": [
    {
     "name": "stdout",
     "output_type": "stream",
     "text": [
      "<class 'pandas.core.frame.DataFrame'>\n",
      "RangeIndex: 1661 entries, 0 to 1660\n",
      "Data columns (total 7 columns):\n",
      " #   Column       Non-Null Count  Dtype  \n",
      "---  ------       --------------  -----  \n",
      " 0   pos          1661 non-null   int32  \n",
      " 1   driver       1661 non-null   object \n",
      " 2   nationality  1661 non-null   object \n",
      " 3   car          1661 non-null   object \n",
      " 4   pts          1661 non-null   float64\n",
      " 5   year         1661 non-null   int64  \n",
      " 6   code         1661 non-null   object \n",
      "dtypes: float64(1), int32(1), int64(1), object(4)\n",
      "memory usage: 84.5+ KB\n"
     ]
    }
   ],
   "source": [
    "df1.info()"
   ]
  },
  {
   "cell_type": "code",
   "execution_count": 115,
   "id": "a6f0e89b",
   "metadata": {},
   "outputs": [],
   "source": [
    "df1.to_csv('drivers_clean.csv',index=False)"
   ]
  }
 ],
 "metadata": {
  "kernelspec": {
   "display_name": "Python 3 (ipykernel)",
   "language": "python",
   "name": "python3"
  },
  "language_info": {
   "codemirror_mode": {
    "name": "ipython",
    "version": 3
   },
   "file_extension": ".py",
   "mimetype": "text/x-python",
   "name": "python",
   "nbconvert_exporter": "python",
   "pygments_lexer": "ipython3",
   "version": "3.11.5"
  }
 },
 "nbformat": 4,
 "nbformat_minor": 5
}
