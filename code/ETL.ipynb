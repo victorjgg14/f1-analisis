{
 "cells": [
  {
   "cell_type": "code",
   "execution_count": 1,
   "id": "9b9dee78",
   "metadata": {},
   "outputs": [],
   "source": [
    "import pandas as pd"
   ]
  },
  {
   "cell_type": "code",
   "execution_count": 2,
   "id": "61c1e8ba",
   "metadata": {},
   "outputs": [],
   "source": [
    "df1 = pd.read_csv('../data/drivers_updated.csv')\n",
    "df2 = pd.read_csv('../data/fastest_laps_updated.csv')\n",
    "df3 = pd.read_csv('../data/teams_updated.csv')\n",
    "df4 = pd.read_csv('../data/winners.csv')"
   ]
  },
  {
   "cell_type": "markdown",
   "id": "cf6f451a",
   "metadata": {},
   "source": [
    "# Objetivos del análisis\n",
    "### Comparativa vueltas rapidas entre años\n",
    "### Comprobación dominancia de escuderias por ptos entre temporadas\n",
    "### Nacionalidades predominantes en la f1\n",
    "### Pilotos con mas puntos"
   ]
  },
  {
   "cell_type": "code",
   "execution_count": 6,
   "id": "93bd05bb",
   "metadata": {
    "scrolled": true
   },
   "outputs": [
    {
     "name": "stderr",
     "output_type": "stream",
     "text": [
      "C:\\Users\\v1cto\\AppData\\Local\\Temp\\ipykernel_6188\\382474813.py:15: SettingWithCopyWarning: \n",
      "A value is trying to be set on a copy of a slice from a DataFrame\n",
      "\n",
      "See the caveats in the documentation: https://pandas.pydata.org/pandas-docs/stable/user_guide/indexing.html#returning-a-view-versus-a-copy\n",
      "  df1.pos[df1.pos == 'DQ'] = '0'\n"
     ]
    }
   ],
   "source": [
    "df1.columns = df1.columns.str.lower()\n",
    "\n",
    "df1.iloc[16, 3] = 'Ferrari'  # lo del corchete del iloc es: el primmer numero index, segundo numero columna\n",
    "df1.iloc[17, 3] = 'Philippe Étancelin'\n",
    "df1.iloc[21, 3] = 'Ecurie Lutetia'\n",
    "df1.iloc[35, 3] = 'Ecurie Rosier'\n",
    "df1.iloc[493, 3] = 'Frank Williams Racing Cars/Williams'\n",
    "df1.iloc[53, 3] = 'Scuderia Franera'\n",
    "df1.iloc[309, 3] = 'Reg Parnell Racing'\n",
    "df1.iloc[314, 3] = 'Reg Parnell Racing'\n",
    "df1.iloc[446, 3] = 'Gold Leaf Team Lotus'\n",
    "df1.iloc[478, 3] = 'STP March Racing Team'\n",
    "df1.iloc[492, 3] = 'Penske-White Racing'\n",
    "\n",
    "df1.pos[df1.pos == 'DQ'] = '0'\n",
    "\n",
    "df1.pos = df1.pos.astype(int)\n",
    "\n",
    "df1.driver = df1.driver.apply(lambda x: 'Kimi Raikkonen' if 'Kim' in x else x)"
   ]
  },
  {
   "cell_type": "code",
   "execution_count": 7,
   "id": "0f27cf53",
   "metadata": {},
   "outputs": [],
   "source": [
    "def buscar_temporada_df1(año):\n",
    "    \n",
    "    return df1[df1.year == año]"
   ]
  },
  {
   "cell_type": "code",
   "execution_count": 8,
   "id": "46d8c271",
   "metadata": {},
   "outputs": [],
   "source": [
    "def buscar_nombre_df1(columna, nombre):\n",
    "\n",
    "    return df1[df1[columna].str.contains(nombre, case=False, na=False)]"
   ]
  },
  {
   "cell_type": "code",
   "execution_count": null,
   "id": "9cc453d7",
   "metadata": {},
   "outputs": [],
   "source": []
  },
  {
   "cell_type": "code",
   "execution_count": null,
   "id": "e4faae72",
   "metadata": {},
   "outputs": [],
   "source": []
  },
  {
   "cell_type": "code",
   "execution_count": 9,
   "id": "0944842e",
   "metadata": {
    "scrolled": false
   },
   "outputs": [
    {
     "data": {
      "text/html": [
       "<div>\n",
       "<style scoped>\n",
       "    .dataframe tbody tr th:only-of-type {\n",
       "        vertical-align: middle;\n",
       "    }\n",
       "\n",
       "    .dataframe tbody tr th {\n",
       "        vertical-align: top;\n",
       "    }\n",
       "\n",
       "    .dataframe thead th {\n",
       "        text-align: right;\n",
       "    }\n",
       "</style>\n",
       "<table border=\"1\" class=\"dataframe\">\n",
       "  <thead>\n",
       "    <tr style=\"text-align: right;\">\n",
       "      <th></th>\n",
       "      <th>pos</th>\n",
       "      <th>driver</th>\n",
       "      <th>nationality</th>\n",
       "      <th>car</th>\n",
       "      <th>pts</th>\n",
       "      <th>year</th>\n",
       "      <th>code</th>\n",
       "    </tr>\n",
       "  </thead>\n",
       "  <tbody>\n",
       "    <tr>\n",
       "      <th>492</th>\n",
       "      <td>16</td>\n",
       "      <td>Mark  Donohue</td>\n",
       "      <td>USA</td>\n",
       "      <td>Penske-White Racing</td>\n",
       "      <td>4.0</td>\n",
       "      <td>1971</td>\n",
       "      <td>DON</td>\n",
       "    </tr>\n",
       "  </tbody>\n",
       "</table>\n",
       "</div>"
      ],
      "text/plain": [
       "     pos          driver nationality                  car  pts  year code\n",
       "492   16  Mark  Donohue          USA  Penske-White Racing  4.0  1971  DON"
      ]
     },
     "execution_count": 9,
     "metadata": {},
     "output_type": "execute_result"
    }
   ],
   "source": [
    "buscar_nombre_df1('car', 'white').head(55)"
   ]
  },
  {
   "cell_type": "code",
   "execution_count": 10,
   "id": "7c5b7f9f",
   "metadata": {},
   "outputs": [
    {
     "data": {
      "text/plain": [
       "pos              int32\n",
       "driver          object\n",
       "nationality     object\n",
       "car             object\n",
       "pts            float64\n",
       "year             int64\n",
       "code            object\n",
       "dtype: object"
      ]
     },
     "execution_count": 10,
     "metadata": {},
     "output_type": "execute_result"
    }
   ],
   "source": [
    "df1.dtypes"
   ]
  },
  {
   "cell_type": "code",
   "execution_count": 11,
   "id": "ae4f1f36",
   "metadata": {},
   "outputs": [
    {
     "name": "stdout",
     "output_type": "stream",
     "text": [
      "<class 'pandas.core.frame.DataFrame'>\n",
      "RangeIndex: 1661 entries, 0 to 1660\n",
      "Data columns (total 7 columns):\n",
      " #   Column       Non-Null Count  Dtype  \n",
      "---  ------       --------------  -----  \n",
      " 0   pos          1661 non-null   int32  \n",
      " 1   driver       1661 non-null   object \n",
      " 2   nationality  1661 non-null   object \n",
      " 3   car          1661 non-null   object \n",
      " 4   pts          1661 non-null   float64\n",
      " 5   year         1661 non-null   int64  \n",
      " 6   code         1661 non-null   object \n",
      "dtypes: float64(1), int32(1), int64(1), object(4)\n",
      "memory usage: 84.5+ KB\n"
     ]
    }
   ],
   "source": [
    "df1.info()"
   ]
  },
  {
   "cell_type": "code",
   "execution_count": 12,
   "id": "441bc643",
   "metadata": {},
   "outputs": [
    {
     "data": {
      "text/html": [
       "<div>\n",
       "<style scoped>\n",
       "    .dataframe tbody tr th:only-of-type {\n",
       "        vertical-align: middle;\n",
       "    }\n",
       "\n",
       "    .dataframe tbody tr th {\n",
       "        vertical-align: top;\n",
       "    }\n",
       "\n",
       "    .dataframe thead th {\n",
       "        text-align: right;\n",
       "    }\n",
       "</style>\n",
       "<table border=\"1\" class=\"dataframe\">\n",
       "  <thead>\n",
       "    <tr style=\"text-align: right;\">\n",
       "      <th></th>\n",
       "      <th>count</th>\n",
       "      <th>mean</th>\n",
       "      <th>std</th>\n",
       "      <th>min</th>\n",
       "      <th>25%</th>\n",
       "      <th>50%</th>\n",
       "      <th>75%</th>\n",
       "      <th>max</th>\n",
       "    </tr>\n",
       "  </thead>\n",
       "  <tbody>\n",
       "    <tr>\n",
       "      <th>pos</th>\n",
       "      <td>1661.0</td>\n",
       "      <td>11.416616</td>\n",
       "      <td>6.442690</td>\n",
       "      <td>0.0</td>\n",
       "      <td>6.0</td>\n",
       "      <td>11.0</td>\n",
       "      <td>17.0</td>\n",
       "      <td>28.0</td>\n",
       "    </tr>\n",
       "    <tr>\n",
       "      <th>pts</th>\n",
       "      <td>1661.0</td>\n",
       "      <td>31.138170</td>\n",
       "      <td>60.446033</td>\n",
       "      <td>0.0</td>\n",
       "      <td>3.0</td>\n",
       "      <td>9.0</td>\n",
       "      <td>32.0</td>\n",
       "      <td>575.0</td>\n",
       "    </tr>\n",
       "    <tr>\n",
       "      <th>year</th>\n",
       "      <td>1661.0</td>\n",
       "      <td>1987.124624</td>\n",
       "      <td>21.849750</td>\n",
       "      <td>1950.0</td>\n",
       "      <td>1968.0</td>\n",
       "      <td>1987.0</td>\n",
       "      <td>2006.0</td>\n",
       "      <td>2024.0</td>\n",
       "    </tr>\n",
       "  </tbody>\n",
       "</table>\n",
       "</div>"
      ],
      "text/plain": [
       "       count         mean        std     min     25%     50%     75%     max\n",
       "pos   1661.0    11.416616   6.442690     0.0     6.0    11.0    17.0    28.0\n",
       "pts   1661.0    31.138170  60.446033     0.0     3.0     9.0    32.0   575.0\n",
       "year  1661.0  1987.124624  21.849750  1950.0  1968.0  1987.0  2006.0  2024.0"
      ]
     },
     "execution_count": 12,
     "metadata": {},
     "output_type": "execute_result"
    }
   ],
   "source": [
    "df1_numerical = ['pos', 'pts', 'year']\n",
    "\n",
    "df1[df1_numerical].describe().T"
   ]
  },
  {
   "cell_type": "code",
   "execution_count": 19,
   "id": "4f38bfda",
   "metadata": {
    "scrolled": true
   },
   "outputs": [
    {
     "data": {
      "text/plain": [
       "nationality\n",
       "GBR    299\n",
       "ITA    193\n",
       "FRA    185\n",
       "GER    137\n",
       "USA    135\n",
       "BRA    111\n",
       "FIN     65\n",
       "ESP     51\n",
       "AUS     51\n",
       "AUT     44\n",
       "NZL     38\n",
       "BEL     36\n",
       "ARG     35\n",
       "JPN     35\n",
       "SWE     33\n",
       "SUI     31\n",
       "MEX     30\n",
       "CAN     27\n",
       "NED     27\n",
       "RSA     16\n",
       "DEN     11\n",
       "RUS     10\n",
       "MON      9\n",
       "POL      7\n",
       "THA      7\n",
       "VEN      6\n",
       "COL      6\n",
       "IND      5\n",
       "POR      4\n",
       "IRL      4\n",
       "RHO      3\n",
       "CHN      3\n",
       "HUN      2\n",
       "CHI      2\n",
       "MAS      1\n",
       "INA      1\n",
       "RAF      1\n",
       "Name: count, dtype: int64"
      ]
     },
     "execution_count": 19,
     "metadata": {},
     "output_type": "execute_result"
    }
   ],
   "source": [
    "df1.nationality.value_counts()"
   ]
  },
  {
   "cell_type": "code",
   "execution_count": 15,
   "id": "934d5c86",
   "metadata": {},
   "outputs": [
    {
     "data": {
      "text/html": [
       "<div>\n",
       "<style scoped>\n",
       "    .dataframe tbody tr th:only-of-type {\n",
       "        vertical-align: middle;\n",
       "    }\n",
       "\n",
       "    .dataframe tbody tr th {\n",
       "        vertical-align: top;\n",
       "    }\n",
       "\n",
       "    .dataframe thead th {\n",
       "        text-align: right;\n",
       "    }\n",
       "</style>\n",
       "<table border=\"1\" class=\"dataframe\">\n",
       "  <thead>\n",
       "    <tr style=\"text-align: right;\">\n",
       "      <th></th>\n",
       "      <th>driver</th>\n",
       "    </tr>\n",
       "  </thead>\n",
       "  <tbody>\n",
       "    <tr>\n",
       "      <th>0</th>\n",
       "      <td>Paco Godia</td>\n",
       "    </tr>\n",
       "    <tr>\n",
       "      <th>1</th>\n",
       "      <td>Alfonso  de Portago</td>\n",
       "    </tr>\n",
       "    <tr>\n",
       "      <th>2</th>\n",
       "      <td>Luis  Perez-Sala</td>\n",
       "    </tr>\n",
       "    <tr>\n",
       "      <th>3</th>\n",
       "      <td>Pedro  de la Rosa</td>\n",
       "    </tr>\n",
       "    <tr>\n",
       "      <th>4</th>\n",
       "      <td>Marc  Gene</td>\n",
       "    </tr>\n",
       "    <tr>\n",
       "      <th>5</th>\n",
       "      <td>Fernando  Alonso</td>\n",
       "    </tr>\n",
       "    <tr>\n",
       "      <th>6</th>\n",
       "      <td>Jaime  Alguersuari</td>\n",
       "    </tr>\n",
       "    <tr>\n",
       "      <th>7</th>\n",
       "      <td>Carlos  Sainz</td>\n",
       "    </tr>\n",
       "    <tr>\n",
       "      <th>8</th>\n",
       "      <td>Roberto  Merhi</td>\n",
       "    </tr>\n",
       "  </tbody>\n",
       "</table>\n",
       "</div>"
      ],
      "text/plain": [
       "                driver\n",
       "0          Paco Godia \n",
       "1  Alfonso  de Portago\n",
       "2    Luis  Perez-Sala \n",
       "3   Pedro  de la Rosa \n",
       "4          Marc  Gene \n",
       "5    Fernando  Alonso \n",
       "6  Jaime  Alguersuari \n",
       "7       Carlos  Sainz \n",
       "8      Roberto  Merhi "
      ]
     },
     "execution_count": 15,
     "metadata": {},
     "output_type": "execute_result"
    }
   ],
   "source": [
    "df = pd.DataFrame\n",
    "df(df1[df1.nationality == 'ESP'].driver.unique(), columns=['driver'])"
   ]
  },
  {
   "cell_type": "code",
   "execution_count": 16,
   "id": "f10b0058",
   "metadata": {},
   "outputs": [
    {
     "data": {
      "text/html": [
       "<div>\n",
       "<style scoped>\n",
       "    .dataframe tbody tr th:only-of-type {\n",
       "        vertical-align: middle;\n",
       "    }\n",
       "\n",
       "    .dataframe tbody tr th {\n",
       "        vertical-align: top;\n",
       "    }\n",
       "\n",
       "    .dataframe thead th {\n",
       "        text-align: right;\n",
       "    }\n",
       "</style>\n",
       "<table border=\"1\" class=\"dataframe\">\n",
       "  <thead>\n",
       "    <tr style=\"text-align: right;\">\n",
       "      <th></th>\n",
       "      <th>pts</th>\n",
       "    </tr>\n",
       "    <tr>\n",
       "      <th>driver</th>\n",
       "      <th></th>\n",
       "    </tr>\n",
       "  </thead>\n",
       "  <tbody>\n",
       "    <tr>\n",
       "      <th>Lewis  Hamilton</th>\n",
       "      <td>4681.5</td>\n",
       "    </tr>\n",
       "    <tr>\n",
       "      <th>Sebastian  Vettel</th>\n",
       "      <td>3098.0</td>\n",
       "    </tr>\n",
       "    <tr>\n",
       "      <th>Max  Verstappen</th>\n",
       "      <td>2755.5</td>\n",
       "    </tr>\n",
       "    <tr>\n",
       "      <th>Fernando  Alonso</th>\n",
       "      <td>2300.0</td>\n",
       "    </tr>\n",
       "    <tr>\n",
       "      <th>Kimi Raikkonen</th>\n",
       "      <td>1873.0</td>\n",
       "    </tr>\n",
       "    <tr>\n",
       "      <th>...</th>\n",
       "      <td>...</td>\n",
       "    </tr>\n",
       "    <tr>\n",
       "      <th>Rio  Haryanto</th>\n",
       "      <td>0.0</td>\n",
       "    </tr>\n",
       "    <tr>\n",
       "      <th>Ian  Burgess</th>\n",
       "      <td>0.0</td>\n",
       "    </tr>\n",
       "    <tr>\n",
       "      <th>Hap Sharp</th>\n",
       "      <td>0.0</td>\n",
       "    </tr>\n",
       "    <tr>\n",
       "      <th>Giorgio  Pantano</th>\n",
       "      <td>0.0</td>\n",
       "    </tr>\n",
       "    <tr>\n",
       "      <th>Ian  Raby</th>\n",
       "      <td>0.0</td>\n",
       "    </tr>\n",
       "  </tbody>\n",
       "</table>\n",
       "<p>399 rows × 1 columns</p>\n",
       "</div>"
      ],
      "text/plain": [
       "                       pts\n",
       "driver                    \n",
       "Lewis  Hamilton     4681.5\n",
       "Sebastian  Vettel   3098.0\n",
       "Max  Verstappen     2755.5\n",
       "Fernando  Alonso    2300.0\n",
       "Kimi Raikkonen      1873.0\n",
       "...                    ...\n",
       "Rio  Haryanto          0.0\n",
       "Ian  Burgess           0.0\n",
       "Hap Sharp              0.0\n",
       "Giorgio  Pantano       0.0\n",
       "Ian  Raby              0.0\n",
       "\n",
       "[399 rows x 1 columns]"
      ]
     },
     "execution_count": 16,
     "metadata": {},
     "output_type": "execute_result"
    }
   ],
   "source": [
    "df(df1.groupby('driver')['pts'].agg('sum')).sort_values(by='pts', ascending=False)"
   ]
  },
  {
   "cell_type": "code",
   "execution_count": null,
   "id": "8a2bc625",
   "metadata": {},
   "outputs": [],
   "source": []
  }
 ],
 "metadata": {
  "kernelspec": {
   "display_name": "Python 3 (ipykernel)",
   "language": "python",
   "name": "python3"
  },
  "language_info": {
   "codemirror_mode": {
    "name": "ipython",
    "version": 3
   },
   "file_extension": ".py",
   "mimetype": "text/x-python",
   "name": "python",
   "nbconvert_exporter": "python",
   "pygments_lexer": "ipython3",
   "version": "3.11.5"
  }
 },
 "nbformat": 4,
 "nbformat_minor": 5
}
